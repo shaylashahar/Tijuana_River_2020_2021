{
 "cells": [
  {
   "cell_type": "markdown",
   "id": "11fd3440",
   "metadata": {},
   "source": [
    "# To run this notebook, install fastp, parallel, and kaiju and add them to your PATH\n",
    "# make sure all fastq files are in working directory\n",
    "fastp: \n",
    "wget http://opengene.org/fastp/fastp\n",
    "chmod a+x ./fastp\n",
    "\n",
    "parallel: \n",
    "wget http://ftpmirror.gnu.org/parallel/parallel-20150322.tar.bz2 \n",
    "bzip2 -dc parallel-20150322.tar.bz2 | tar xvf - \n",
    "cd parallel-20150322\n",
    "./configure && make && make install\n",
    "\n",
    "kaiju: \n",
    "git clone https://github.com/bioinformatics-centre/kaiju.git\n",
    "\n",
    "Also, create or install reference database from Kaiju. This project uses nr_euk and it is installed as follows: \n",
    "mkdir kaijudb\n",
    "cd kaijudb\n",
    "kaiju-makedb -s nr_euk"
   ]
  },
  {
   "cell_type": "code",
   "execution_count": 1,
   "id": "d17a4cb7",
   "metadata": {},
   "outputs": [
    {
     "ename": "SyntaxError",
     "evalue": "cannot assign to expression here. Maybe you meant '==' instead of '='? (1086926584.py, line 2)",
     "output_type": "error",
     "traceback": [
      "\u001b[0;36m  Cell \u001b[0;32mIn[1], line 2\u001b[0;36m\u001b[0m\n\u001b[0;31m    ls *fastq.gz | parallel --dryrun -j32 --max-args=2 fastp -h ./{1.}.html  -i ./{1} -I ./{2} -o ./{1.}.gz -O ./fastp_out/{2.}.gz\u001b[0m\n\u001b[0m    ^\u001b[0m\n\u001b[0;31mSyntaxError\u001b[0m\u001b[0;31m:\u001b[0m cannot assign to expression here. Maybe you meant '==' instead of '='?\n"
     ]
    }
   ],
   "source": [
    "# Running fastp to clean sequences \n",
    "# the --dryrun will present each command as it will run without running it. Remove --dryrun once ready to run \n",
    "ls *fastq.gz | parallel --dryrun -j32 --max-args=2 fastp -h ~/[path_to_project]/{1.}.html  -i ~/[path_to_project]/{1} -I ~/[path_to_project]/{2} -o ./{1.}.gz -O ~/[path_to_project]/fastp_out/{2.}.gz"
   ]
  },
  {
   "cell_type": "code",
   "execution_count": null,
   "id": "9ab4da19",
   "metadata": {},
   "outputs": [],
   "source": [
    "# Running Kaiju \n",
    "ls *qc.fastq.gz | parallel --dryrun -j15 --max-args=2 kaiju -t ~/[path_to_kaijudb]/nodes.dmp -f ~/[path_to_kaijudb]/kaiju_db_nr_euk.fmi -i {1} -j {2} -o ~/[path_to_project]/kaiju_out/{1.}.out"
   ]
  },
  {
   "cell_type": "code",
   "execution_count": null,
   "id": "6d338677",
   "metadata": {},
   "outputs": [],
   "source": [
    "# Running Kaiju2table \n",
    "ls *.out | parallel --dryrun -j15 kaiju2table -t ~/[path_to_kaijudb]/nodes.dmp -n ~/[path_to_kaijudb]/names.dmp -r species -l domain,superkingdom,phylum,class,order,family,genus,species -o {.}.tsv {}"
   ]
  },
  {
   "cell_type": "code",
   "execution_count": null,
   "id": "032810b9",
   "metadata": {},
   "outputs": [],
   "source": [
    "# Convert .tsv to OTU table \n",
    "python3 kaiju_table_to_OTU.py"
   ]
  }
 ],
 "metadata": {
  "kernelspec": {
   "display_name": "Python 3 (ipykernel)",
   "language": "python",
   "name": "python3"
  },
  "language_info": {
   "codemirror_mode": {
    "name": "ipython",
    "version": 3
   },
   "file_extension": ".py",
   "mimetype": "text/x-python",
   "name": "python",
   "nbconvert_exporter": "python",
   "pygments_lexer": "ipython3",
   "version": "3.10.0"
  }
 },
 "nbformat": 4,
 "nbformat_minor": 5
}
