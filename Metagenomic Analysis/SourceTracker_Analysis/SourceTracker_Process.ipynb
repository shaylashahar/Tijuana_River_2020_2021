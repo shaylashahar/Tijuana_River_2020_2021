{
 "cells": [
  {
   "cell_type": "markdown",
   "id": "98721844",
   "metadata": {},
   "source": [
    "# This notebook provides steps to determine which source metagenomes are suitable for the sourcetracker analysis \n",
    "Comparing freshwater, gut, ocean, Pacific Ocean, soil, and wastewater metagenomes \n",
    "\n",
    "# Make sure to install parallel and kaiju before continuing \n",
    "parallel: \n",
    "wget http://ftpmirror.gnu.org/parallel/parallel-20150322.tar.bz2 \n",
    "bzip2 -dc parallel-20150322.tar.bz2 | tar xvf - \n",
    "cd parallel-20150322 \n",
    "./configure && make && make install\n",
    "\n",
    "kaiju:\n",
    "git clone https://github.com/bioinformatics-centre/kaiju.git\n",
    "\n",
    "kaijudb: \n",
    "mkdir kaijudb \n",
    "cd kaijudb \n",
    "kaiju-makedb -s nr_euk"
   ]
  },
  {
   "cell_type": "code",
   "execution_count": null,
   "id": "7e9b24d2",
   "metadata": {},
   "outputs": [],
   "source": [
    "# Each source should have its own directory for organization purposes \n",
    "# each .txt and wget_*.sh are available in Metagenome_Seqs_Input\n",
    "mkdir freshwater\n",
    "cd freshwater # freshwater.txt should be in this directory \n",
    "./wget_freshwater.sh \n",
    "cd ..\n",
    "mkdir gut \n",
    "cd gut # gut.txt should be in this directory \n",
    "./wget_gut.sh\n",
    "cd ..\n",
    "mkdir ocean \n",
    "cd ocean # ocean.txt should be in this directory \n",
    "./wget_ocean.sh\n",
    "cd ..\n",
    "mkdir pacific \n",
    "cd pacific  # pacific.txt should be in this directory \n",
    "./wget_pacific.sh\n",
    "cd ..\n",
    "mkdir soil \n",
    "cd soil  # soil.txt should be in this directory \n",
    "./wget_soil.sh\n",
    "cd ..\n",
    "mkdir wastewater \n",
    "cd wastewater  # wastewater.txt should be in this directory \n",
    "./wget_wastewater.sh"
   ]
  },
  {
   "cell_type": "code",
   "execution_count": null,
   "id": "27406d85",
   "metadata": {},
   "outputs": [],
   "source": [
    "# in each directory, run the following: \n",
    "ls *.fastq.gz | parallel -j15 --max-args=2 kaiju -t ~/[path_to_kaijudb]/nodes.dmp -f ~/[path_to_kaijudb]/kaiju_db_nr_euk.fmi -i {1} -j {2} -o ~/[path_to_project]/kaiju_out/{1.}.out"
   ]
  },
  {
   "cell_type": "code",
   "execution_count": null,
   "id": "292cc740",
   "metadata": {},
   "outputs": [],
   "source": [
    "# in each directory, run the following: \n",
    "ls *.out | parallel -j15 kaiju2table -t ~/[path_to_kaijudb]/nodes.dmp -n ~/[path_to_kaijudb]/names.dmp -e -r species -l domain,superkingdom,phylum,class,order,family,genus,species -o {.}.tsv {}"
   ]
  },
  {
   "cell_type": "code",
   "execution_count": null,
   "id": "e490782f",
   "metadata": {},
   "outputs": [],
   "source": [
    "# in each directory, run the following to convert .tsv to OTU table \n",
    "# change lines 47, 50, 52, 54, and 56 to name each csv with source name \n",
    "# i.e. \"freshwater_OTU_metagenome.csv\"\n",
    "python3 kaiju_table_to_OTU.py"
   ]
  },
  {
   "cell_type": "code",
   "execution_count": null,
   "id": "8114b0a9",
   "metadata": {},
   "outputs": [],
   "source": [
    "# run the following python script to merge all metagenomes, but change \"metagenome\" for individual domains if desired \n",
    "python3 Combine_All_Metagenomes.py "
   ]
  },
  {
   "cell_type": "markdown",
   "id": "1e64e94f",
   "metadata": {},
   "source": [
    "# To determine which metagenomes to keep, use NMDS to determine dissimilarity between samples \n",
    "# First run ST_NMDS_All.Rmd \n",
    "# This will output the initial NMDS with all metagenomes plotted \n",
    "# Next run ST_NMDS_Sub.Rmd\n",
    "# This will output the subplot of the bottom right corner of the initial plot \n",
    "# Based on these plots, we will continue with only \"pure\" metagenomes "
   ]
  },
  {
   "cell_type": "code",
   "execution_count": null,
   "id": "2be342d0",
   "metadata": {},
   "outputs": [],
   "source": [
    "# run the following python script to merge metagenomes with selected columns only, \n",
    "# but change \"metagenome\" for individual domains if desired \n",
    "python3 Merge_Selected_Metagenomes.py"
   ]
  },
  {
   "cell_type": "markdown",
   "id": "ba8a3b09",
   "metadata": {},
   "source": [
    "# Next move on to SourceTracker \n",
    "First install SourceTracker: \n",
    "pip3 install sourcetracker "
   ]
  },
  {
   "cell_type": "code",
   "execution_count": null,
   "id": "38c9f6bc",
   "metadata": {},
   "outputs": [],
   "source": [
    "# SourceTracker takes 3 arguments: \n",
    "# input: OTU table in biom format \n",
    "# map: samples assigned to \"source\" or \"sink\"\n",
    "# output: directory for output files "
   ]
  },
  {
   "cell_type": "code",
   "execution_count": null,
   "id": "f952ffa2",
   "metadata": {},
   "outputs": [],
   "source": [
    "# First convert OTU from csv to tsv \n",
    "# Convert tsv to biom \n",
    "biom convert -i All_final.txt -o All_final.biom --table-type=\"OTU table\" --to-json"
   ]
  },
  {
   "cell_type": "code",
   "execution_count": null,
   "id": "17708913",
   "metadata": {},
   "outputs": [],
   "source": [
    "# Run SourceTracker \n",
    "sourcetracker2 gibbs -i All_final.biom -m map.txt -o metagenome_out"
   ]
  }
 ],
 "metadata": {
  "kernelspec": {
   "display_name": "Python 3 (ipykernel)",
   "language": "python",
   "name": "python3"
  },
  "language_info": {
   "codemirror_mode": {
    "name": "ipython",
    "version": 3
   },
   "file_extension": ".py",
   "mimetype": "text/x-python",
   "name": "python",
   "nbconvert_exporter": "python",
   "pygments_lexer": "ipython3",
   "version": "3.10.0"
  }
 },
 "nbformat": 4,
 "nbformat_minor": 5
}
